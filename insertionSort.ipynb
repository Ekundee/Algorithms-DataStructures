{
 "cells": [
  {
   "cell_type": "code",
   "execution_count": 27,
   "metadata": {},
   "outputs": [],
   "source": [
    "def insertionSort(arr):\n",
    "    for i in range(1,len(arr)):\n",
    "        currentValue = arr[i]\n",
    "\n",
    "        previousValue = arr[i-1]\n",
    "        print(f\"previous value : {previousValue}\")\n",
    "        print(f\"current value : {currentValue}\")\n",
    "        \n",
    "        while previousValue > 0 and previousValue > currentValue:\n",
    "            arr[i] = previousValue\n",
    "            arr[i-1] = currentValue\n",
    "            print(\"yeah\")\n",
    "            previousValue = arr[i-1]\n",
    "            print(previousValue)\n",
    "    return arr"
   ]
  },
  {
   "cell_type": "code",
   "execution_count": 28,
   "metadata": {},
   "outputs": [
    {
     "name": "stdout",
     "output_type": "stream",
     "text": [
      "previous value : 1\n",
      "current value : 3\n",
      "previous value : 3\n",
      "current value : 2\n",
      "yeah\n",
      "2\n",
      "previous value : 3\n",
      "current value : 5\n",
      "previous value : 5\n",
      "current value : 6\n",
      "previous value : 6\n",
      "current value : 4\n",
      "yeah\n",
      "4\n",
      "[1, 2, 3, 5, 4, 6]\n"
     ]
    }
   ],
   "source": [
    "arr = [1,3,2,5,6,4]\n",
    "print(insertionSort(arr))"
   ]
  },
  {
   "cell_type": "code",
   "execution_count": null,
   "metadata": {},
   "outputs": [],
   "source": []
  },
  {
   "cell_type": "code",
   "execution_count": null,
   "metadata": {},
   "outputs": [],
   "source": []
  }
 ],
 "metadata": {
  "kernelspec": {
   "display_name": "base",
   "language": "python",
   "name": "python3"
  },
  "language_info": {
   "codemirror_mode": {
    "name": "ipython",
    "version": 3
   },
   "file_extension": ".py",
   "mimetype": "text/x-python",
   "name": "python",
   "nbconvert_exporter": "python",
   "pygments_lexer": "ipython3",
   "version": "3.9.12"
  },
  "orig_nbformat": 4,
  "vscode": {
   "interpreter": {
    "hash": "a077222d77dfe082b8f1dd562ad70e458ac2ab76993a0b248ab0476e32e9e8dd"
   }
  }
 },
 "nbformat": 4,
 "nbformat_minor": 2
}
